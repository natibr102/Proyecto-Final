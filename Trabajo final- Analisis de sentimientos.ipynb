{
 "cells": [
  {
   "cell_type": "code",
   "execution_count": 27,
   "id": "9203d8b9",
   "metadata": {},
   "outputs": [
    {
     "name": "stdout",
     "output_type": "stream",
     "text": [
      "Requirement already satisfied: nltk in ./anaconda3/lib/python3.9/site-packages (3.7)\n",
      "Requirement already satisfied: joblib in ./anaconda3/lib/python3.9/site-packages (from nltk) (1.1.0)\n",
      "Requirement already satisfied: tqdm in ./anaconda3/lib/python3.9/site-packages (from nltk) (4.64.0)\n",
      "Requirement already satisfied: regex>=2021.8.3 in ./anaconda3/lib/python3.9/site-packages (from nltk) (2022.3.15)\n",
      "Requirement already satisfied: click in ./anaconda3/lib/python3.9/site-packages (from nltk) (8.0.4)\n"
     ]
    }
   ],
   "source": [
    "import pandas as pd\n",
    "import numpy as np\n",
    "import csv\n",
    "import matplotlib.pyplot as plt\n",
    "%matplotlib inline\n",
    "import seaborn as sns\n",
    "from wordcloud import WordCloud, STOPWORDS, ImageColorGenerator\n",
    "from bs4 import BeautifulSoup\n",
    "import requests \n",
    "from selenium import webdriver\n",
    "from selenium.webdriver.common.keys import Keys\n",
    "from selenium.webdriver.common.by import By\n",
    "from selenium.common.exceptions import NoSuchElementException\n",
    "import time\n",
    "import nltk\n",
    "from nltk.tokenize import word_tokenize\n",
    "from nltk.tokenize import sent_tokenize\n",
    "from nltk.stem.wordnet import WordNetLemmatizer\n",
    "from nltk.probability import FreqDist\n",
    "from nltk.corpus import stopwords\n",
    "from nltk.stem import PorterStemmer\n",
    "from nltk.corpus import wordnet\n",
    "from nltk.tag import pos_tag\n",
    "from nltk.sentiment.vader import SentimentIntensityAnalyzer\n",
    "from textblob import TextBlob\n",
    "from nltk.tokenize import RegexpTokenizer\n",
    "!pip install nltk\n",
    "\n",
    "\n",
    "import warnings\n",
    "warnings.filterwarnings(\"ignore\")"
   ]
  },
  {
   "cell_type": "markdown",
   "id": "4df8e71d",
   "metadata": {},
   "source": [
    "#### Extraemos comentarios de clientes de un alojamiento incluido en nuestro dataset, aplicando el método de Web Scraping utilizando Beatiful Soup (Realizado el día 7 de abril de 2023). \n",
    "Camping Caledonia\n",
    " Antiga Carretera Nacional 340 Km 1172, 43008 Tamarit, España \n",
    "+ A este texto le aplicaremos análisis de sentimiento."
   ]
  },
  {
   "cell_type": "code",
   "execution_count": 16,
   "id": "1f6c762d",
   "metadata": {},
   "outputs": [],
   "source": [
    "url='https://www.booking.com/hotel/es/camping-caledonia.es.html?aid=397594&label=gog235jc-1FCAEoggI46AdIClgDaEaIAQGYAQq4AQfIAQzYAQHoAQH4AQOIAgGoAgO4At_b5aAGwAIB0gIkMjlmODkyN2EtYTczMi00Y2IxLWFiMDAtMDEwMjhiNmUzYWM52AIF4AIB&sid=78acd339eff5a24ffe748869e8295262&age=4;age=8;all_sr_blocks=30533611_301935100_5_0_0;checkin=2023-07-03;checkout=2023-07-09;dest_id=1389;dest_type=region;dist=0;group_adults=2;group_children=2;hapos=2;highlighted_blocks=30533611_301935100_5_0_0;hpos=2;matching_block_id=30533611_301935100_5_0_0;no_rooms=1;req_adults=2;req_age=4;req_age=8;req_children=2;room1=A%2CA%2C4%2C8;sb_price_type=total;sr_order=popularity;sr_pri_blocks=30533611_301935100_5_0_0__76584;srepoch=1680902700;srpvid=d3a395f7299e00e7;type=total;ucfs=1&#tab-reviews'\n"
   ]
  },
  {
   "cell_type": "code",
   "execution_count": 17,
   "id": "1cc14f9d",
   "metadata": {},
   "outputs": [],
   "source": [
    "page = requests.get(url)\n",
    "soup = BeautifulSoup(page.content, \"html.parser\")"
   ]
  },
  {
   "cell_type": "code",
   "execution_count": 22,
   "id": "7c1a71de",
   "metadata": {},
   "outputs": [
    {
     "data": {
      "text/plain": [
       "[<div class=\"c9545e7647\"><div class=\"db29ecfbe2 c688f151a2\"><span>“</span>Localización, entorno natural, personal, atención, actividades, que permitan mascotas<span>”</span></div></div>,\n",
       " <div class=\"c9545e7647\"><div class=\"db29ecfbe2 c688f151a2\"><span>“</span>Gente muy amable y cordial. Instalaciones bien pero sin secadores en los lavabos. Buena animación.<span>”</span></div></div>,\n",
       " <div class=\"c9545e7647\"><div class=\"db29ecfbe2 c688f151a2\"><span>“</span>Es la segunda vez que vamos. \n",
       " Nos hemos alojado en una tienda Safari. Super bonitas, cómodas y a los críos les encantó que haya animales. Animo a mantenerlos y poner más. \n",
       " Súper bonito el paseo fuera del camping por el río. Aunque la salida justo...<span>”</span></div></div>,\n",
       " <div class=\"c9545e7647\"><div class=\"db29ecfbe2 c688f151a2\"><span>“</span>el espacio tan grande, comodidad y sobretodo el  espacio de la terraza y la posición que daba todo el día el sol, la tranquilidad que había<span>”</span></div></div>,\n",
       " <div class=\"c9545e7647\"><div class=\"db29ecfbe2 c688f151a2\"><span>“</span>la estancia muy tranquila y bien ubicado dentro del camping<span>”</span></div></div>,\n",
       " <div class=\"c9545e7647\"><div class=\"db29ecfbe2 c688f151a2\"><span>“</span>Todo súper limpio que para mí es esencial, trato agradable con el personal que trabaja en el.<span>”</span></div></div>,\n",
       " <div class=\"c9545e7647\"><div class=\"db29ecfbe2 c688f151a2\"><span>“</span>Estaba todo súper bien limpio y era un bungalow pequeñito pero muy acogedor<span>”</span></div></div>,\n",
       " <div class=\"c9545e7647\"><div class=\"db29ecfbe2 c688f151a2\"><span>“</span>Camping muy tranquilo, y personal muy a y atento. La cabaña Bali, muy bonita con la terraza, aunque para ir con un niño cuando hace frío, quizá no sea el mejor alojamiento. Nos cambiaron a una villa y estuvimos muy cómodos.<span>”</span></div></div>,\n",
       " <div class=\"c9545e7647\"><div class=\"db29ecfbe2 c688f151a2\"><span>“</span>Primer fin de semana que vamos de la temporada y muy agusto como siempre, pensando en volver pronto de nuevo<span>”</span></div></div>,\n",
       " <div class=\"c9545e7647\"><div class=\"db29ecfbe2 c688f151a2\"><span>“</span>EL bungalow esta bien equipado, una pena el suplemento por sabanas y toallas que cada vez esta mas de moda en este tipo de alojamientos, el camping en general muy bien, mucha cuesta y pendientes, pero las instalaciones, sobretodo los baños, recién...<span>”</span></div></div>]"
      ]
     },
     "execution_count": 22,
     "metadata": {},
     "output_type": "execute_result"
    }
   ],
   "source": [
    "#Extraemos los comentarios de los clientes al alojamiento\n",
    "hotel_elements=soup.find_all(\"div\", class_=\"c9545e7647\")\n",
    "hotel_elements"
   ]
  },
  {
   "cell_type": "code",
   "execution_count": 28,
   "id": "9f44fbd5",
   "metadata": {},
   "outputs": [
    {
     "name": "stdout",
     "output_type": "stream",
     "text": [
      "“Localización, entorno natural, personal, atención, actividades, que permitan mascotas”\n",
      "“Gente muy amable y cordial. Instalaciones bien pero sin secadores en los lavabos. Buena animación.”\n",
      "“Es la segunda vez que vamos. \n",
      "Nos hemos alojado en una tienda Safari. Super bonitas, cómodas y a los críos les encantó que haya animales. Animo a mantenerlos y poner más. \n",
      "Súper bonito el paseo fuera del camping por el río. Aunque la salida justo...”\n",
      "“el espacio tan grande, comodidad y sobretodo el  espacio de la terraza y la posición que daba todo el día el sol, la tranquilidad que había”\n",
      "“la estancia muy tranquila y bien ubicado dentro del camping”\n",
      "“Todo súper limpio que para mí es esencial, trato agradable con el personal que trabaja en el.”\n",
      "“Estaba todo súper bien limpio y era un bungalow pequeñito pero muy acogedor”\n",
      "“Camping muy tranquilo, y personal muy a y atento. La cabaña Bali, muy bonita con la terraza, aunque para ir con un niño cuando hace frío, quizá no sea el mejor alojamiento. Nos cambiaron a una villa y estuvimos muy cómodos.”\n",
      "“Primer fin de semana que vamos de la temporada y muy agusto como siempre, pensando en volver pronto de nuevo”\n",
      "“EL bungalow esta bien equipado, una pena el suplemento por sabanas y toallas que cada vez esta mas de moda en este tipo de alojamientos, el camping en general muy bien, mucha cuesta y pendientes, pero las instalaciones, sobretodo los baños, recién...”\n"
     ]
    }
   ],
   "source": [
    "#Extraemos sólo el texto \n",
    "hotel_elements = soup.find_all(\"div\", class_=\"c9545e7647\")\n",
    "for element in hotel_elements:\n",
    "    print(element.text)\n"
   ]
  },
  {
   "cell_type": "code",
   "execution_count": 31,
   "id": "aa13f009",
   "metadata": {},
   "outputs": [],
   "source": [
    "text=\"\"\"\"“Localización, entorno natural, personal, atención, actividades, que permitan mascotas”\n",
    "“Gente muy amable y cordial. Instalaciones bien pero sin secadores en los lavabos. Buena animación.”\n",
    "“Es la segunda vez que vamos. \n",
    "Nos hemos alojado en una tienda Safari. Super bonitas, cómodas y a los críos les encantó que haya animales. Animo a mantenerlos y poner más. \n",
    "Súper bonito el paseo fuera del camping por el río. Aunque la salida justo...”\n",
    "“el espacio tan grande, comodidad y sobretodo el  espacio de la terraza y la posición que daba todo el día el sol, la tranquilidad que había”\n",
    "“la estancia muy tranquila y bien ubicado dentro del camping”\n",
    "“Todo súper limpio que para mí es esencial, trato agradable con el personal que trabaja en el.”\n",
    "“Estaba todo súper bien limpio y era un bungalow pequeñito pero muy acogedor”\n",
    "“Camping muy tranquilo, y personal muy a y atento. La cabaña Bali, muy bonita con la terraza, aunque para ir con un niño cuando hace frío, quizá no sea el mejor alojamiento. Nos cambiaron a una villa y estuvimos muy cómodos.”\n",
    "“Primer fin de semana que vamos de la temporada y muy agusto como siempre, pensando en volver pronto de nuevo”\n",
    "“EL bungalow esta bien equipado, una pena el suplemento por sabanas y toallas que cada vez esta mas de moda en este tipo de alojamientos, el camping en general muy bien, mucha cuesta y pendientes, pero las instalaciones, sobretodo los baños, recién...”\"\"\""
   ]
  },
  {
   "cell_type": "markdown",
   "id": "7cc79209",
   "metadata": {},
   "source": [
    "### Tokenización de oraciones\n",
    "El tokenizador de oraciones divide el párrafo de texto en oraciones."
   ]
  },
  {
   "cell_type": "code",
   "execution_count": 32,
   "id": "5b58e52a",
   "metadata": {},
   "outputs": [
    {
     "name": "stdout",
     "output_type": "stream",
     "text": [
      "['\"“Localización, entorno natural, personal, atención, actividades, que permitan mascotas”\\n“Gente muy amable y cordial.', 'Instalaciones bien pero sin secadores en los lavabos.', 'Buena animación.”\\n“Es la segunda vez que vamos.', 'Nos hemos alojado en una tienda Safari.', 'Super bonitas, cómodas y a los críos les encantó que haya animales.', 'Animo a mantenerlos y poner más.', 'Súper bonito el paseo fuera del camping por el río.', 'Aunque la salida justo...”\\n“el espacio tan grande, comodidad y sobretodo el  espacio de la terraza y la posición que daba todo el día el sol, la tranquilidad que había”\\n“la estancia muy tranquila y bien ubicado dentro del camping”\\n“Todo súper limpio que para mí es esencial, trato agradable con el personal que trabaja en el.”\\n“Estaba todo súper bien limpio y era un bungalow pequeñito pero muy acogedor”\\n“Camping muy tranquilo, y personal muy a y atento.', 'La cabaña Bali, muy bonita con la terraza, aunque para ir con un niño cuando hace frío, quizá no sea el mejor alojamiento.', 'Nos cambiaron a una villa y estuvimos muy cómodos.”\\n“Primer fin de semana que vamos de la temporada y muy agusto como siempre, pensando en volver pronto de nuevo”\\n“EL bungalow esta bien equipado, una pena el suplemento por sabanas y toallas que cada vez esta mas de moda en este tipo de alojamientos, el camping en general muy bien, mucha cuesta y pendientes, pero las instalaciones, sobretodo los baños, recién...”']\n"
     ]
    },
    {
     "name": "stderr",
     "output_type": "stream",
     "text": [
      "[nltk_data] Downloading package punkt to /Users/natalia/nltk_data...\n",
      "[nltk_data]   Package punkt is already up-to-date!\n"
     ]
    }
   ],
   "source": [
    "nltk.download('punkt')\n",
    "tokenized_text=sent_tokenize(text)\n",
    "print(tokenized_text)"
   ]
  },
  {
   "cell_type": "markdown",
   "id": "eb3e5a12",
   "metadata": {},
   "source": [
    "### Tokenización de palabras\n",
    "El tokenizador de palabras divide el párrafo de texto en palabras."
   ]
  },
  {
   "cell_type": "code",
   "execution_count": 35,
   "id": "d59524a5",
   "metadata": {},
   "outputs": [
    {
     "name": "stdout",
     "output_type": "stream",
     "text": [
      "['``', '“', 'Localización', ',', 'entorno', 'natural', ',', 'personal', ',', 'atención', ',', 'actividades', ',', 'que', 'permitan', 'mascotas', '”', '“', 'Gente', 'muy', 'amable', 'y', 'cordial', '.', 'Instalaciones', 'bien', 'pero', 'sin', 'secadores', 'en', 'los', 'lavabos', '.', 'Buena', 'animación.', '”', '“', 'Es', 'la', 'segunda', 'vez', 'que', 'vamos', '.', 'Nos', 'hemos', 'alojado', 'en', 'una', 'tienda', 'Safari', '.', 'Super', 'bonitas', ',', 'cómodas', 'y', 'a', 'los', 'críos', 'les', 'encantó', 'que', 'haya', 'animales', '.', 'Animo', 'a', 'mantenerlos', 'y', 'poner', 'más', '.', 'Súper', 'bonito', 'el', 'paseo', 'fuera', 'del', 'camping', 'por', 'el', 'río', '.', 'Aunque', 'la', 'salida', 'justo', '...', '”', '“', 'el', 'espacio', 'tan', 'grande', ',', 'comodidad', 'y', 'sobretodo', 'el', 'espacio', 'de', 'la', 'terraza', 'y', 'la', 'posición', 'que', 'daba', 'todo', 'el', 'día', 'el', 'sol', ',', 'la', 'tranquilidad', 'que', 'había', '”', '“', 'la', 'estancia', 'muy', 'tranquila', 'y', 'bien', 'ubicado', 'dentro', 'del', 'camping', '”', '“', 'Todo', 'súper', 'limpio', 'que', 'para', 'mí', 'es', 'esencial', ',', 'trato', 'agradable', 'con', 'el', 'personal', 'que', 'trabaja', 'en', 'el.', '”', '“', 'Estaba', 'todo', 'súper', 'bien', 'limpio', 'y', 'era', 'un', 'bungalow', 'pequeñito', 'pero', 'muy', 'acogedor', '”', '“', 'Camping', 'muy', 'tranquilo', ',', 'y', 'personal', 'muy', 'a', 'y', 'atento', '.', 'La', 'cabaña', 'Bali', ',', 'muy', 'bonita', 'con', 'la', 'terraza', ',', 'aunque', 'para', 'ir', 'con', 'un', 'niño', 'cuando', 'hace', 'frío', ',', 'quizá', 'no', 'sea', 'el', 'mejor', 'alojamiento', '.', 'Nos', 'cambiaron', 'a', 'una', 'villa', 'y', 'estuvimos', 'muy', 'cómodos.', '”', '“', 'Primer', 'fin', 'de', 'semana', 'que', 'vamos', 'de', 'la', 'temporada', 'y', 'muy', 'agusto', 'como', 'siempre', ',', 'pensando', 'en', 'volver', 'pronto', 'de', 'nuevo', '”', '“', 'EL', 'bungalow', 'esta', 'bien', 'equipado', ',', 'una', 'pena', 'el', 'suplemento', 'por', 'sabanas', 'y', 'toallas', 'que', 'cada', 'vez', 'esta', 'mas', 'de', 'moda', 'en', 'este', 'tipo', 'de', 'alojamientos', ',', 'el', 'camping', 'en', 'general', 'muy', 'bien', ',', 'mucha', 'cuesta', 'y', 'pendientes', ',', 'pero', 'las', 'instalaciones', ',', 'sobretodo', 'los', 'baños', ',', 'recién', '...', '”']\n"
     ]
    }
   ],
   "source": [
    "from nltk.tokenize import word_tokenize\n",
    "tokenized_word=word_tokenize(text)\n",
    "print(tokenized_word)"
   ]
  },
  {
   "cell_type": "markdown",
   "id": "376bd9ba",
   "metadata": {},
   "source": [
    "### Distribución de frecuencias\n",
    "La distribución de frecuencia de palabras es una técnica común en el análisis de texto y se utiliza para identificar las palabras más comunes en un corpus de texto."
   ]
  },
  {
   "cell_type": "code",
   "execution_count": 36,
   "id": "d2ea2416",
   "metadata": {},
   "outputs": [
    {
     "name": "stdout",
     "output_type": "stream",
     "text": [
      "<FreqDist with 156 samples and 290 outcomes>\n"
     ]
    }
   ],
   "source": [
    "from nltk.probability import FreqDist\n",
    "\n",
    "fdist = FreqDist(tokenized_word)\n",
    "print(fdist)"
   ]
  },
  {
   "cell_type": "code",
   "execution_count": 37,
   "id": "38bda8e5",
   "metadata": {},
   "outputs": [
    {
     "data": {
      "text/plain": [
       "[(',', 20),\n",
       " ('y', 13),\n",
       " ('“', 10),\n",
       " ('”', 10),\n",
       " ('el', 10),\n",
       " ('que', 9),\n",
       " ('muy', 9),\n",
       " ('.', 9),\n",
       " ('la', 8),\n",
       " ('en', 6)]"
      ]
     },
     "execution_count": 37,
     "metadata": {},
     "output_type": "execute_result"
    }
   ],
   "source": [
    "#Palabras que más se repiden, en orden descendiente.\n",
    "fdist.most_common(10)\n"
   ]
  },
  {
   "cell_type": "code",
   "execution_count": 38,
   "id": "788f56e4",
   "metadata": {},
   "outputs": [
    {
     "data": {
      "image/png": "[encoded data removed]",
      "text/plain": [
       "<Figure size 432x288 with 1 Axes>"
      ]
     },
     "metadata": {
      "needs_background": "light"
     },
     "output_type": "display_data"
    }
   ],
   "source": [
    "# Frequency Distribution Plot\n",
    "import matplotlib.pyplot as plt\n",
    "fdist.plot(30,cumulative=False)\n",
    "plt.show()"
   ]
  },
  {
   "cell_type": "markdown",
   "id": "8b4ee567",
   "metadata": {},
   "source": [
    "#### El conjunto de palabras de detención (\"stop words\") en NLTK está disponible solo para el idioma inglés. No es posible utilizar stopwords en español sin hacer algunas modificaciones en el código. Debemos crear una  lista de palabras de detención para español y utilizarla para eliminar esas palabras de un texto."
   ]
  },
  {
   "cell_type": "code",
   "execution_count": 45,
   "id": "349b5197",
   "metadata": {},
   "outputs": [
    {
     "name": "stdout",
     "output_type": "stream",
     "text": [
      "\"“Localización, entorno natural, personal, atención, actividades, que permitan mascotas” “Gente muy amable y cordial. Instalaciones bien pero secadores en lavabos. Buena animación.” “Es segunda vez que vamos. Nos hemos alojado en tienda Safari. Super bonitas, cómodas y a críos les encantó que haya animales. Animo a mantenerlos y poner más. Súper bonito paseo fuera camping río. Aunque salida justo...” “el espacio tan grande, comodidad y sobretodo espacio terraza y posición que daba todo día sol, tranquilidad que había” “la estancia muy tranquila y bien ubicado dentro camping” “Todo súper limpio que mí es esencial, trato agradable personal que trabaja en el.” “Estaba todo súper bien limpio y era bungalow pequeñito pero muy acogedor” “Camping muy tranquilo, y personal muy a y atento. cabaña Bali, muy bonita terraza, aunque ir niño cuando hace frío, quizá no sea mejor alojamiento. Nos cambiaron a villa y estuvimos muy cómodos.” “Primer fin semana que vamos temporada y muy agusto como siempre, pensando en volver pronto nuevo” “EL bungalow esta bien equipado, pena suplemento sabanas y toallas que cada vez esta mas moda en este tipo alojamientos, camping en general muy bien, mucha cuesta y pendientes, pero instalaciones, sobretodo baños, recién...”\n"
     ]
    }
   ],
   "source": [
    "# Importar librería de expresiones regulares\n",
    "import re\n",
    "\n",
    "# Definir lista de palabras de detención en español\n",
    "stop_words = set(['de', 'la', 'el', 'los', 'las', 'del', 'al', 'un', 'una', 'para', 'por', 'con', 'sin', 'sobre', 'entre', 'hacia', 'desde', 'durante', 'ante', 'bajo', 'tras'])\n",
    "\n",
    "\n",
    "# Convertir el texto en una lista de palabras\n",
    "palabras = text.split()\n",
    "\n",
    "# Eliminar las palabras de detención de la lista de palabras\n",
    "palabras_limp = [palabra for palabra in palabras if not palabra.lower() in stop_words]\n",
    "\n",
    "# Unir las palabras limpias para formar un nuevo texto sin palabras de detención\n",
    "texto_limp = \" \".join(palabras_limp)\n",
    "\n",
    "# Imprimir el texto limpio\n",
    "print(texto_limp)\n"
   ]
  },
  {
   "cell_type": "code",
   "execution_count": 46,
   "id": "9b8c98cb",
   "metadata": {},
   "outputs": [
    {
     "name": "stdout",
     "output_type": "stream",
     "text": [
      "Tokenized Sentence: ['``', '“', 'Localización', ',', 'entorno', 'natural', ',', 'personal', ',', 'atención', ',', 'actividades', ',', 'que', 'permitan', 'mascotas', '”', '“', 'Gente', 'muy', 'amable', 'y', 'cordial', '.', 'Instalaciones', 'bien', 'pero', 'sin', 'secadores', 'en', 'los', 'lavabos', '.', 'Buena', 'animación.', '”', '“', 'Es', 'la', 'segunda', 'vez', 'que', 'vamos', '.', 'Nos', 'hemos', 'alojado', 'en', 'una', 'tienda', 'Safari', '.', 'Super', 'bonitas', ',', 'cómodas', 'y', 'a', 'los', 'críos', 'les', 'encantó', 'que', 'haya', 'animales', '.', 'Animo', 'a', 'mantenerlos', 'y', 'poner', 'más', '.', 'Súper', 'bonito', 'el', 'paseo', 'fuera', 'del', 'camping', 'por', 'el', 'río', '.', 'Aunque', 'la', 'salida', 'justo', '...', '”', '“', 'el', 'espacio', 'tan', 'grande', ',', 'comodidad', 'y', 'sobretodo', 'el', 'espacio', 'de', 'la', 'terraza', 'y', 'la', 'posición', 'que', 'daba', 'todo', 'el', 'día', 'el', 'sol', ',', 'la', 'tranquilidad', 'que', 'había', '”', '“', 'la', 'estancia', 'muy', 'tranquila', 'y', 'bien', 'ubicado', 'dentro', 'del', 'camping', '”', '“', 'Todo', 'súper', 'limpio', 'que', 'para', 'mí', 'es', 'esencial', ',', 'trato', 'agradable', 'con', 'el', 'personal', 'que', 'trabaja', 'en', 'el.', '”', '“', 'Estaba', 'todo', 'súper', 'bien', 'limpio', 'y', 'era', 'un', 'bungalow', 'pequeñito', 'pero', 'muy', 'acogedor', '”', '“', 'Camping', 'muy', 'tranquilo', ',', 'y', 'personal', 'muy', 'a', 'y', 'atento', '.', 'La', 'cabaña', 'Bali', ',', 'muy', 'bonita', 'con', 'la', 'terraza', ',', 'aunque', 'para', 'ir', 'con', 'un', 'niño', 'cuando', 'hace', 'frío', ',', 'quizá', 'no', 'sea', 'el', 'mejor', 'alojamiento', '.', 'Nos', 'cambiaron', 'a', 'una', 'villa', 'y', 'estuvimos', 'muy', 'cómodos.', '”', '“', 'Primer', 'fin', 'de', 'semana', 'que', 'vamos', 'de', 'la', 'temporada', 'y', 'muy', 'agusto', 'como', 'siempre', ',', 'pensando', 'en', 'volver', 'pronto', 'de', 'nuevo', '”', '“', 'EL', 'bungalow', 'esta', 'bien', 'equipado', ',', 'una', 'pena', 'el', 'suplemento', 'por', 'sabanas', 'y', 'toallas', 'que', 'cada', 'vez', 'esta', 'mas', 'de', 'moda', 'en', 'este', 'tipo', 'de', 'alojamientos', ',', 'el', 'camping', 'en', 'general', 'muy', 'bien', ',', 'mucha', 'cuesta', 'y', 'pendientes', ',', 'pero', 'las', 'instalaciones', ',', 'sobretodo', 'los', 'baños', ',', 'recién', '...', '”']\n",
      "Filterd Sentence: ['``', '“', 'Localización', ',', 'entorno', 'natural', ',', 'personal', ',', 'atención', ',', 'actividades', ',', 'que', 'permitan', 'mascotas', '”', '“', 'Gente', 'muy', 'amable', 'y', 'cordial', '.', 'Instalaciones', 'bien', 'pero', 'secadores', 'en', 'lavabos', '.', 'Buena', 'animación.', '”', '“', 'Es', 'segunda', 'vez', 'que', 'vamos', '.', 'Nos', 'hemos', 'alojado', 'en', 'tienda', 'Safari', '.', 'Super', 'bonitas', ',', 'cómodas', 'y', 'a', 'críos', 'les', 'encantó', 'que', 'haya', 'animales', '.', 'Animo', 'a', 'mantenerlos', 'y', 'poner', 'más', '.', 'Súper', 'bonito', 'paseo', 'fuera', 'camping', 'río', '.', 'Aunque', 'salida', 'justo', '...', '”', '“', 'espacio', 'tan', 'grande', ',', 'comodidad', 'y', 'sobretodo', 'espacio', 'terraza', 'y', 'posición', 'que', 'daba', 'todo', 'día', 'sol', ',', 'tranquilidad', 'que', 'había', '”', '“', 'estancia', 'muy', 'tranquila', 'y', 'bien', 'ubicado', 'dentro', 'camping', '”', '“', 'Todo', 'súper', 'limpio', 'que', 'mí', 'es', 'esencial', ',', 'trato', 'agradable', 'personal', 'que', 'trabaja', 'en', 'el.', '”', '“', 'Estaba', 'todo', 'súper', 'bien', 'limpio', 'y', 'era', 'bungalow', 'pequeñito', 'pero', 'muy', 'acogedor', '”', '“', 'Camping', 'muy', 'tranquilo', ',', 'y', 'personal', 'muy', 'a', 'y', 'atento', '.', 'La', 'cabaña', 'Bali', ',', 'muy', 'bonita', 'terraza', ',', 'aunque', 'ir', 'niño', 'cuando', 'hace', 'frío', ',', 'quizá', 'no', 'sea', 'mejor', 'alojamiento', '.', 'Nos', 'cambiaron', 'a', 'villa', 'y', 'estuvimos', 'muy', 'cómodos.', '”', '“', 'Primer', 'fin', 'semana', 'que', 'vamos', 'temporada', 'y', 'muy', 'agusto', 'como', 'siempre', ',', 'pensando', 'en', 'volver', 'pronto', 'nuevo', '”', '“', 'EL', 'bungalow', 'esta', 'bien', 'equipado', ',', 'pena', 'suplemento', 'sabanas', 'y', 'toallas', 'que', 'cada', 'vez', 'esta', 'mas', 'moda', 'en', 'este', 'tipo', 'alojamientos', ',', 'camping', 'en', 'general', 'muy', 'bien', ',', 'mucha', 'cuesta', 'y', 'pendientes', ',', 'pero', 'instalaciones', ',', 'sobretodo', 'baños', ',', 'recién', '...', '”']\n"
     ]
    }
   ],
   "source": [
    "filtered_sent=[]\n",
    "for w in tokenized_word:\n",
    "    if w not in stop_words:\n",
    "        filtered_sent.append(w)\n",
    "print(\"Tokenized Sentence:\",tokenized_word)\n",
    "print(\"Filterd Sentence:\",filtered_sent)"
   ]
  },
  {
   "cell_type": "code",
   "execution_count": 47,
   "id": "997feb09",
   "metadata": {},
   "outputs": [
    {
     "name": "stdout",
     "output_type": "stream",
     "text": [
      "290\n",
      "247\n"
     ]
    }
   ],
   "source": [
    "print(len(tokenized_word))\n",
    "print(len(filtered_sent))"
   ]
  },
  {
   "cell_type": "markdown",
   "id": "e1c8e6a6",
   "metadata": {},
   "source": [
    "##### Stemming es un proceso de normalización lingüística, que reduce las palabras a su palabra raíz o elimina los afijos derivativos."
   ]
  },
  {
   "cell_type": "code",
   "execution_count": 48,
   "id": "9cf19e3b",
   "metadata": {},
   "outputs": [
    {
     "name": "stdout",
     "output_type": "stream",
     "text": [
      "Filtered Sentence: ['``', '“', 'Localización', ',', 'entorno', 'natural', ',', 'personal', ',', 'atención', ',', 'actividades', ',', 'que', 'permitan', 'mascotas', '”', '“', 'Gente', 'muy', 'amable', 'y', 'cordial', '.', 'Instalaciones', 'bien', 'pero', 'secadores', 'en', 'lavabos', '.', 'Buena', 'animación.', '”', '“', 'Es', 'segunda', 'vez', 'que', 'vamos', '.', 'Nos', 'hemos', 'alojado', 'en', 'tienda', 'Safari', '.', 'Super', 'bonitas', ',', 'cómodas', 'y', 'a', 'críos', 'les', 'encantó', 'que', 'haya', 'animales', '.', 'Animo', 'a', 'mantenerlos', 'y', 'poner', 'más', '.', 'Súper', 'bonito', 'paseo', 'fuera', 'camping', 'río', '.', 'Aunque', 'salida', 'justo', '...', '”', '“', 'espacio', 'tan', 'grande', ',', 'comodidad', 'y', 'sobretodo', 'espacio', 'terraza', 'y', 'posición', 'que', 'daba', 'todo', 'día', 'sol', ',', 'tranquilidad', 'que', 'había', '”', '“', 'estancia', 'muy', 'tranquila', 'y', 'bien', 'ubicado', 'dentro', 'camping', '”', '“', 'Todo', 'súper', 'limpio', 'que', 'mí', 'es', 'esencial', ',', 'trato', 'agradable', 'personal', 'que', 'trabaja', 'en', 'el.', '”', '“', 'Estaba', 'todo', 'súper', 'bien', 'limpio', 'y', 'era', 'bungalow', 'pequeñito', 'pero', 'muy', 'acogedor', '”', '“', 'Camping', 'muy', 'tranquilo', ',', 'y', 'personal', 'muy', 'a', 'y', 'atento', '.', 'La', 'cabaña', 'Bali', ',', 'muy', 'bonita', 'terraza', ',', 'aunque', 'ir', 'niño', 'cuando', 'hace', 'frío', ',', 'quizá', 'no', 'sea', 'mejor', 'alojamiento', '.', 'Nos', 'cambiaron', 'a', 'villa', 'y', 'estuvimos', 'muy', 'cómodos.', '”', '“', 'Primer', 'fin', 'semana', 'que', 'vamos', 'temporada', 'y', 'muy', 'agusto', 'como', 'siempre', ',', 'pensando', 'en', 'volver', 'pronto', 'nuevo', '”', '“', 'EL', 'bungalow', 'esta', 'bien', 'equipado', ',', 'pena', 'suplemento', 'sabanas', 'y', 'toallas', 'que', 'cada', 'vez', 'esta', 'mas', 'moda', 'en', 'este', 'tipo', 'alojamientos', ',', 'camping', 'en', 'general', 'muy', 'bien', ',', 'mucha', 'cuesta', 'y', 'pendientes', ',', 'pero', 'instalaciones', ',', 'sobretodo', 'baños', ',', 'recién', '...', '”']\n",
      "Stemmed Sentence: ['``', '“', 'localización', ',', 'entorno', 'natur', ',', 'person', ',', 'atención', ',', 'actividad', ',', 'que', 'permitan', 'mascota', '”', '“', 'gent', 'muy', 'amabl', 'y', 'cordial', '.', 'instalacion', 'bien', 'pero', 'secador', 'en', 'lavabo', '.', 'buena', 'animación.', '”', '“', 'es', 'segunda', 'vez', 'que', 'vamo', '.', 'no', 'hemo', 'alojado', 'en', 'tienda', 'safari', '.', 'super', 'bonita', ',', 'cómoda', 'y', 'a', 'crío', 'le', 'encantó', 'que', 'haya', 'animal', '.', 'animo', 'a', 'mantenerlo', 'y', 'poner', 'má', '.', 'súper', 'bonito', 'paseo', 'fuera', 'camp', 'río', '.', 'aunqu', 'salida', 'justo', '...', '”', '“', 'espacio', 'tan', 'grand', ',', 'comodidad', 'y', 'sobretodo', 'espacio', 'terraza', 'y', 'posición', 'que', 'daba', 'todo', 'día', 'sol', ',', 'tranquilidad', 'que', 'había', '”', '“', 'estancia', 'muy', 'tranquila', 'y', 'bien', 'ubicado', 'dentro', 'camp', '”', '“', 'todo', 'súper', 'limpio', 'que', 'mí', 'es', 'esenci', ',', 'trato', 'agrad', 'person', 'que', 'trabaja', 'en', 'el.', '”', '“', 'estaba', 'todo', 'súper', 'bien', 'limpio', 'y', 'era', 'bungalow', 'pequeñito', 'pero', 'muy', 'acogedor', '”', '“', 'camp', 'muy', 'tranquilo', ',', 'y', 'person', 'muy', 'a', 'y', 'atento', '.', 'la', 'cabaña', 'bali', ',', 'muy', 'bonita', 'terraza', ',', 'aunqu', 'ir', 'niño', 'cuando', 'hace', 'frío', ',', 'quizá', 'no', 'sea', 'mejor', 'alojamiento', '.', 'no', 'cambiaron', 'a', 'villa', 'y', 'estuvimo', 'muy', 'cómodos.', '”', '“', 'primer', 'fin', 'semana', 'que', 'vamo', 'temporada', 'y', 'muy', 'agusto', 'como', 'siempr', ',', 'pensando', 'en', 'volver', 'pronto', 'nuevo', '”', '“', 'el', 'bungalow', 'esta', 'bien', 'equipado', ',', 'pena', 'suplemento', 'sabana', 'y', 'toalla', 'que', 'cada', 'vez', 'esta', 'ma', 'moda', 'en', 'est', 'tipo', 'alojamiento', ',', 'camp', 'en', 'gener', 'muy', 'bien', ',', 'mucha', 'cuesta', 'y', 'pendient', ',', 'pero', 'instalacion', ',', 'sobretodo', 'baño', ',', 'recién', '...', '”']\n"
     ]
    }
   ],
   "source": [
    "# Stemming\n",
    "from nltk.stem import PorterStemmer\n",
    "from nltk.tokenize import sent_tokenize, word_tokenize\n",
    "\n",
    "ps = PorterStemmer()\n",
    "\n",
    "stemmed_words=[]\n",
    "for w in filtered_sent:\n",
    "    stemmed_words.append(ps.stem(w))\n",
    "\n",
    "print(\"Filtered Sentence:\",filtered_sent)\n",
    "print(\"Stemmed Sentence:\",stemmed_words)"
   ]
  },
  {
   "cell_type": "markdown",
   "id": "fd0c2f22",
   "metadata": {},
   "source": [
    "###### La lematización reduce las palabras a su palabra base, que es lemas lingüísticamente correctos. Transforma raíces de palabras con el uso de vocabulario y análisis morfológico."
   ]
  },
  {
   "cell_type": "code",
   "execution_count": 49,
   "id": "436587c2",
   "metadata": {},
   "outputs": [
    {
     "name": "stderr",
     "output_type": "stream",
     "text": [
      "[nltk_data] Downloading package wordnet to /Users/natalia/nltk_data...\n",
      "[nltk_data]   Package wordnet is already up-to-date!\n"
     ]
    },
    {
     "data": {
      "text/plain": [
       "True"
      ]
     },
     "execution_count": 49,
     "metadata": {},
     "output_type": "execute_result"
    }
   ],
   "source": [
    "nltk.download('wordnet')"
   ]
  },
  {
   "cell_type": "code",
   "execution_count": 50,
   "id": "3de8bf08",
   "metadata": {},
   "outputs": [
    {
     "name": "stderr",
     "output_type": "stream",
     "text": [
      "[nltk_data] Downloading package omw-1.4 to /Users/natalia/nltk_data...\n",
      "[nltk_data]   Package omw-1.4 is already up-to-date!\n"
     ]
    },
    {
     "data": {
      "text/plain": [
       "True"
      ]
     },
     "execution_count": 50,
     "metadata": {},
     "output_type": "execute_result"
    }
   ],
   "source": [
    "import nltk\n",
    "nltk.download('omw-1.4')"
   ]
  },
  {
   "cell_type": "code",
   "execution_count": 51,
   "id": "8b597bfc",
   "metadata": {},
   "outputs": [
    {
     "name": "stderr",
     "output_type": "stream",
     "text": [
      "[nltk_data] Downloading package punkt to /Users/natalia/nltk_data...\n",
      "[nltk_data]   Package punkt is already up-to-date!\n"
     ]
    },
    {
     "name": "stdout",
     "output_type": "stream",
     "text": [
      "`` “ Localización , entorno natural , personal , atención , actividades , que permitan mascotas ” “ Gente muy amable y cordial . Instalaciones bien pero sin secadores en los lavabo . Buena animación. ” “ Es la segunda vez que vamos . Nos hemos alojado en una tienda Safari . Super bonitas , cómodas y a los críos le encantó que haya animales . Animo a mantenerlos y poner más . Súper bonito el paseo fuera del camping por el río . Aunque la salida justo ... ” “ el espacio tan grande , comodidad y sobretodo el espacio de la terraza y la posición que daba todo el día el sol , la tranquilidad que había ” “ la estancia muy tranquila y bien ubicado dentro del camping ” “ Todo súper limpio que para mí e esencial , trato agradable con el personal que trabaja en el. ” “ Estaba todo súper bien limpio y era un bungalow pequeñito pero muy acogedor ” “ Camping muy tranquilo , y personal muy a y atento . La cabaña Bali , muy bonita con la terraza , aunque para ir con un niño cuando hace frío , quizá no sea el mejor alojamiento . Nos cambiaron a una villa y estuvimos muy cómodos. ” “ Primer fin de semana que vamos de la temporada y muy agusto como siempre , pensando en volver pronto de nuevo ” “ EL bungalow esta bien equipado , una pena el suplemento por sabanas y toallas que cada vez esta ma de moda en este tipo de alojamientos , el camping en general muy bien , mucha cuesta y pendientes , pero la instalaciones , sobretodo los baños , recién ... ”\n"
     ]
    }
   ],
   "source": [
    "from nltk.stem import WordNetLemmatizer\n",
    "\n",
    "# Descargar los recursos necesarios de NLTK\n",
    "nltk.download('punkt')\n",
    "\n",
    "\n",
    "# Inicializar el lematizador de WordNet\n",
    "lemmatizer = WordNetLemmatizer()\n",
    "\n",
    "\n",
    "# Tokenizar el texto en palabras\n",
    "palabras = nltk.word_tokenize(text)\n",
    "\n",
    "# Lematizar cada palabra\n",
    "lemas = [lemmatizer.lemmatize(palabra) for palabra in palabras]\n",
    "\n",
    "# Unir los lemas en un nuevo texto\n",
    "texto_lematizado = ' '.join(lemas)\n",
    "\n",
    "print(texto_lematizado)"
   ]
  },
  {
   "cell_type": "code",
   "execution_count": 52,
   "id": "c9b6c543",
   "metadata": {},
   "outputs": [
    {
     "name": "stdout",
     "output_type": "stream",
     "text": [
      "1409\n",
      "1454\n"
     ]
    }
   ],
   "source": [
    "print (len(text))\n",
    "print (len(texto_lematizado))"
   ]
  },
  {
   "cell_type": "markdown",
   "id": "354af751",
   "metadata": {},
   "source": [
    "##### Analisis de sentimientos "
   ]
  },
  {
   "cell_type": "markdown",
   "id": "adf08ad1",
   "metadata": {},
   "source": [
    "Los comentarios de los clientes de alojamientos turísticos pueden expresar una amplia gama de sentimientos y emociones.\n",
    "Es importante tener en cuenta que la opinión de cada cliente es única y puede variar en función de su experiencia personal y de sus expectativas. "
   ]
  },
  {
   "cell_type": "code",
   "execution_count": 53,
   "id": "816a4905",
   "metadata": {},
   "outputs": [
    {
     "name": "stdout",
     "output_type": "stream",
     "text": [
      "{'neg': 0.025, 'neu': 0.947, 'pos': 0.028, 'compound': 0.1531}\n"
     ]
    },
    {
     "name": "stderr",
     "output_type": "stream",
     "text": [
      "[nltk_data] Downloading package vader_lexicon to\n",
      "[nltk_data]     /Users/natalia/nltk_data...\n",
      "[nltk_data]   Package vader_lexicon is already up-to-date!\n"
     ]
    }
   ],
   "source": [
    "import nltk\n",
    "from nltk.sentiment.vader import SentimentIntensityAnalyzer\n",
    "\n",
    "# Descargar los recursos necesarios de NLTK\n",
    "nltk.download('vader_lexicon')\n",
    "\n",
    "# Inicializar el analizador de sentimiento \n",
    "analyzer = SentimentIntensityAnalyzer()\n",
    "\n",
    "\n",
    "# Obtener el puntaje de sentimiento\n",
    "scores = analyzer.polarity_scores(text)\n",
    "\n",
    "# Imprimir el puntaje de sentimiento\n",
    "print(scores)"
   ]
  },
  {
   "cell_type": "markdown",
   "id": "b3f25500",
   "metadata": {},
   "source": [
    "El resultado del análisis de sentimiento muestra que el texto tiene una polaridad neutra, ya que el valor de 'neu' es 0.947. Esto significa que el texto no tiene un sesgo positivo o negativo muy marcado, sino que es más bien neutral en cuanto a su contenido emocional.\n",
    "\n",
    "El valor de 'pos' es 0.028, lo que indica que hay una ligera presencia de sentimientos positivos en el texto, pero no son muy fuertes. Por otro lado, el valor de 'neg' es 0.025, lo que indica que hay una ligera presencia de sentimientos negativos en el texto, pero tampoco son muy fuertes.\n",
    "\n",
    "El valor de 'compound' es 0.1531, lo que indica que el texto tiene una polaridad positiva muy leve. Este valor se obtiene a partir de un algoritmo que combina los valores de 'pos', 'neg' y 'neu' para obtener una puntuación general que representa la polaridad del texto.\n",
    "\n",
    "En general, se puede interpretar que el texto analizado tiene un tono emocional neutral con una ligera presencia de sentimientos positivos y negativos. "
   ]
  }
 ],
 "metadata": {
  "kernelspec": {
   "display_name": "Python 3 (ipykernel)",
   "language": "python",
   "name": "python3"
  },
  "language_info": {
   "codemirror_mode": {
    "name": "ipython",
    "version": 3
   },
   "file_extension": ".py",
   "mimetype": "text/x-python",
   "name": "python",
   "nbconvert_exporter": "python",
   "pygments_lexer": "ipython3",
   "version": "3.9.12"
  }
 },
 "nbformat": 4,
 "nbformat_minor": 5
}
